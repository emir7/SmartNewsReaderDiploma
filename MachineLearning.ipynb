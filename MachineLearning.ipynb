{
 "cells": [
  {
   "cell_type": "markdown",
   "metadata": {},
   "source": [
    "## Dosedanji sklepi\n",
    "\n",
    "Pri deskriptivni analizi podatkov in večnivojskem hierarhičnem modeliranju smo opazovali porazdelitev vhodnih podatkov ter iskali povezave oz. raziskovali kolikšna in kakšna je korelacija med posameznimi parametri konteksta. Prišli smo do naslednjih pomembejših sklepov:\n",
    "\n",
    "* Uporabniki niso razlikovali med vprašanji oz. so dajali enake odgovore pri vseh treh kategorijah na vprašalniku, zato bomo v nadaljevanju vprašalnik poenostavli in bodo imeli uporabniki na voljo le dve možnosti DA - trenuten prikaz novic mi je všeč ali pa NE - trenuten prikaz novic mi ni všeč.\n",
    "* Uporabnikom sploh niso všeč prikazi novic, ki ne vsebujejo slik. V nadaljevanju bomo torej izločili vhodni parameter, ki nam pove ali slike so prisotne, saj bodo te vedno na voljo.\n",
    "* Na podlagi zbranih podatkov velja, da z rastjo internetne povezave pada zadovoljstvo uporabnika, a si ta pojav težko razložimo. Prav tako pa je to lahko zgolj slučaj, saj je zelo malo takih podatkov, kjer je hitrost internetne povezave enaka nič, kar pomeni, da izbrani uporabniki niso imeli težav z internetno povezavo.\n",
    "* Fizična aktivnost vpliva na končno uporabniško izkušnjo. Izkaže se namreč, da uporabniki dajejo prikazom novic najslabše ocene, ko se vozijo, nekoliko boljše ko hodijo in najboljše, ko so pri miru. Pri izgradnji končnega modela bomo torej fizično aktivnost uporabnika upoštevali\n",
    "* Nivo baterije in svetlost okolice vplivata na izbiro teme aplikacije. Z višanjem nivoja baterije in svetlosti okolice raste tudi pribljubljenost svetle teme aplikacije. Nižji kot je nivo baterije in manjša kot je svetlost okolice bolj je priljubljena temna tema aplikacije. Pri tem pa velja, da na izbiro teme aplikacije ima večji vpliv svetlost okolice kot nivo baterije, saj koeficienti premic zavzemajo absolutno večje vrednosti za svetlost okolice kot pri koeficientih za nivo baterije. Pri izgradnji končnega modela bomo torej upoštevali le svetlost okolice, saj si želimo čim enostavnejši (čim manjši nabor vhodnih parametrov) model, ki najbolje napoveduje zadovoljstvo uporabnika.\n",
    "* Bolj kot je pozno uporabniki dajejo pogledom slabše ocene, vendar je vpliv ure v dnevu pri izgradnji večnivojskega hierarhičnega modela zanemarljivo majhen. Uro bomo torej v nadaljevanju izločili.\n",
    "* Če dodamo svetlost zaslona kot vhodni parameter v večnivojski hierarhični model ima ta slabše rezultate, kot če je nebi, zato jo bomo v nadaljevanju izločili pri izgradnji končnega modela.\n",
    "* Uporabniki so največkrat izbirali med 'xLargeCards' in 'largeCards' pogledoma, saj zavzemata največji delež zbranih podatkov (kar 60% delež podatkov). Prav tako pa se med seboj najbolj razlikujeta, zato bomo le njiju uporabili kot nabor različnih vrednosti za parameter 'layout' oz. pogled.  \n",
    "* V splošnem je velika pisava bolj priljubljena od manjše pri čemer se kažejo največja odstopanja, ko uporabnik hodi. Takrat manjša pisava pridobiva veliko bolj negativne ocene v primerjavi z veliko. \n",
    "\n",
    "Česar pa pri analizi dosedanjih podatkov nismo upoštevali pa je uporabnik sam. Do sedaj smo namreč analizirali podatke in gradili modele z globalnga vidika in ne personaliziranega. V našem primeru bi se lahko izkazalo, da ima na sam izbor velikosti pisave, pogleda in teme aplikacije vpliv uporabnik sam, zato bomo gradili personalizirane modele s pomočjo `aktivnega učenja`, saj si želimo s čim bolj kakovostnimi podatki iterativno izboljševati model. \n",
    "\n",
    "V nadaljevanju bodo modeli vsebovali naslednje vhodne parametre:\n",
    "* Fizična aktivnost uporabnika, ki lahko zavzema vrednosti ON_FOOT, IN_VEHICLE, STILL\n",
    "* Svetlost okolice (vrednost merjena v luxih)\n",
    "* Pogled oz. layout (zavzema vrednosti xLargeCards in largeCards)\n",
    "* Tema aplikacije (svetla ali temna)\n",
    "* Velikost pisave (majhna ali velika)\n",
    "\n",
    "Način predikcije prikaza novic in gradnje personaliziranih modelov pa bo sledeč (sam diagram poteka je prikazan na dnu dokumenta):\n",
    "* Najprej preberemo parametre konteksta (svetlost okolice in fizično aktivnost uporabnika) nato osem različnih vhodov (pogled + tema + velikost pisave) oz. načinov prikaza novic poskusimo klasificirati kot DA - uporabniku je všeč ali pa NE - uporabniku ni všeč izbrana kombinacija vhodov, ki predstavlja prikaz novic. \n",
    "* Verjetnosti posameznih klasifikacij za DA si zabeležimo in na izhod izberemo tisti prikaz novic, za katerega je model najbolj prepričan, da je klasificiran kot DA.\n",
    "* Če je največja verjetnost pod določeno mejo (določena v nadaljevanju), potrebujemo interakcijo uporabnika, da oceni ali mu je pogled bil zares všeč ali pa ni, zato mu bomo postavili kratek vprašlnik, pri čemer lahko izbira le med odgovoroma DA - pogled mi je všeč ali pa NE - pogled mi ni všeč. \n",
    "* Če v dvajsetih sekundah uporabnik spremeni katerikoli parameter prikaza novic si zabeležimo uporabnikovo spremembo, saj vemo, da se je model zmotil pri izbiri najboljšega prikaza, saj je uporabnik relativno hitro (v času dvajsetih sekund) zamenjal izbran način prikaza novic. Takrat vprašalnika uporabniku ne postavimo, saj vemo, da mu napoved modela ni bila všeč.\n",
    "* Novo zabeležen podatek za posameznega uporabnika bomo uporabili za izgradnjo novega modela.\n",
    "* Da uporabniku nebi neprestano spreminjali prikaza novic, bomo način prikaza novic napovedovali le takrat, ko je to potrebno. To za nas pomeni, da začnemo predikcijo prikaza novic šele, ko se kontekst spremeni in preteče vsaj 30 sekund od zadnje napovedi. Nov prikaz novic bomo od modela zahtevali torej, ko se spremeni fizična aktivnost uporabnika ali pa ko se nivo svetlosti okolice spremeni. Nivoji bodo definirani po tabeli [wikipedia](https://en.wikipedia.org/wiki/Lux) in bodo imeli definirane štiri različne vrednosti (posameznih nivoji svetlosti okolice bodo definirani enako kot pri večnivojskem hierarhičnem modeliranju).\n",
    "* Prav tako pa bi vprašalnik postavili tudi naključno z določeno verjetnosti odvisno fizične aktivnosti uporabnika. Kot bomo videli v nadaljevanju imamo največ podatkov, ko je uporabnik pri miru (368), 92 podatkov, ko uporabnik hodi in le 43, ko je uporabnik v avtomobilu. Bolj pomembno je zbiranje tistih podatkov, ki jih je manj. To pomeni, da je približno devetkrat več tistih podatkov, ko je uporabnik pri miru kot tistih, ko se uporabik vozi. Štirikrat več pa je tistih podatkov, ko je uporabnik pri miru kot tistih, ko uporabnik hodi. V skladu s porazdelitvijo podatkov, bi želeli v določenih trenutkih naključno postaviti vprašalnik tudi, ko je model prepričan, kaj postaviti na izhod. Tako lahko postavimo enačbo 9x+4x+x=1 => x=1/14. To pomeni, da bomo z verjetnostjo 7% postavili vprašalnik uporabniku, tudi, ko model je prepričan, kako prikazati novice, ko je uporabnik pri miru. Z verjetnostjo 9/14 oz. 64% bomo vprašalnik postavili uporabniku, ko se uporabnik vozi tudi, ko model z dovolj veliko verjetnostjo napove izhod sistema. Z verjetnostjo 4/14 oz. 28% pa bomo vprašalnik postavili, ko uporabnik hodi kljub temu da je model dovolj prepričan, kako prikazati novice.\n",
    "* Porazdelitev podatkov glede fizične aktivnosti lahko sproti posodabljamo in tako dinamično prilagajamo verjetnost, kdaj naključno zahtevati uporabniško interakcijo.\n",
    "\n",
    "Active learning način bo potekal dva tedna. V tem času lahko pričakujemo, da bo zbranih dovolj podatkov in bi model moral biti boljši od naključnega ali pa večinskega klasifikatorja. \n",
    "\n",
    "Po dveh tednih pa bomo primerjali nove personalizirane modele z naključnim klasifikatorjem na posameznem uporabnikih. Prvi dan bomo prikaz novic napovedovali naključno, drugi dan pa z dejanskim modelom itd. Na koncu bomo  analizirali še metrike kot so `F1-Score, Precision, Recall, Accuracy, Mean kfold Accuracy` končnih modelov."
   ]
  },
  {
   "cell_type": "code",
   "execution_count": 121,
   "metadata": {},
   "outputs": [],
   "source": [
    "import pandas as pd\n",
    "from sklearn.ensemble import RandomForestClassifier\n",
    "from sklearn.metrics import roc_curve\n",
    "from sklearn.metrics import roc_auc_score\n",
    "from sklearn.model_selection import train_test_split\n",
    "from sklearn.metrics import f1_score\n",
    "from sklearn.metrics import precision_score\n",
    "from sklearn.metrics import recall_score\n",
    "from sklearn.model_selection import cross_val_score\n",
    "from sklearn.metrics import accuracy_score\n",
    "import matplotlib.pyplot as plt\n",
    "from sklearn.dummy import DummyClassifier\n",
    "from sklearn.metrics import confusion_matrix\n",
    "from sklearn.naive_bayes import GaussianNB\n",
    "from sklearn.ensemble import AdaBoostClassifier\n",
    "from sklearn import tree\n",
    "import numpy as np\n",
    "from math import sqrt\n",
    "from sklearn.model_selection import KFold"
   ]
  },
  {
   "cell_type": "code",
   "execution_count": 122,
   "metadata": {},
   "outputs": [],
   "source": [
    "def performOneHotEncoding(df, catNames):\n",
    "    for catName in catNames:\n",
    "        df = pd.concat([df, pd.get_dummies(df[catName], prefix=catName)], axis=1)\n",
    "        df.drop([catName], axis=1, inplace=True)\n",
    "    return df"
   ]
  },
  {
   "cell_type": "code",
   "execution_count": 123,
   "metadata": {},
   "outputs": [],
   "source": [
    "def izrisi_ocene(df, column_name):\n",
    "    values = df[column_name]\n",
    "    ocene, counts = np.unique(values, return_counts=True)\n",
    "    print(\"Vrednosti ocen \",ocene)\n",
    "    print(\"Stevilo zbranih vnosov \", counts)\n",
    "    x_pos = [i for i in range(5)]\n",
    "    plt.bar(x_pos, counts)\n",
    "\n",
    "    plt.xlabel(\"Uporabnikove ocene\")\n",
    "    plt.ylabel(\"Stevilo zbranih vnosov\")\n",
    "    plt.title(column_name)\n",
    "\n",
    "    plt.xticks(x_pos, ocene)\n",
    "\n",
    "    plt.show()"
   ]
  },
  {
   "cell_type": "code",
   "execution_count": 124,
   "metadata": {},
   "outputs": [],
   "source": [
    "df = pd.read_csv(\"Dataset/mlDataset.csv\")\n",
    "df = performOneHotEncoding(df, ['user activity', 'layout', 'theme', 'images', 'font size'])\n",
    "df.drop(['Unnamed: 0'], axis=1, inplace=True)"
   ]
  },
  {
   "cell_type": "markdown",
   "metadata": {},
   "source": [
    "## Porazdelitev vrednosti ocen posameznih kategorij vprašalnika na novih podatkih\n",
    "\n",
    "Iz oblike spodnjih histogramov opazimo, da še vedno velja dejstvo (na novih podatkih), da so uporabniki enako odgovarjali na vse tri kategorije. Odgovori pa so bili zelo pozitivni, saj smo izbrali prikaze novic z najboljšimi ocenami, kar je tudi pričakovano. Za novo mejo, ki bi definirala ali je prikaz novic zadovoljiv lahko postavimo šest. To pomeni, da bomo v nadaljevanju kot DA označili poglede, ki so imeli ocene šest in NE tiste prikaze novic, ki so imeli ocene pod šest. "
   ]
  },
  {
   "cell_type": "code",
   "execution_count": 125,
   "metadata": {},
   "outputs": [
    {
     "name": "stdout",
     "output_type": "stream",
     "text": [
      "Vrednosti ocen  [-2 -1  0  1  2]\n",
      "Stevilo zbranih vnosov  [ 31  15  25 133 299]\n"
     ]
    },
    {
     "data": {
      "image/png": "[encoded data removed]",
      "text/plain": [
       "<Figure size 432x288 with 1 Axes>"
      ]
     },
     "metadata": {
      "needs_background": "light"
     },
     "output_type": "display_data"
    },
    {
     "name": "stdout",
     "output_type": "stream",
     "text": [
      "Vrednosti ocen  [-2 -1  0  1  2]\n",
      "Stevilo zbranih vnosov  [ 32   8  27 128 308]\n"
     ]
    },
    {
     "data": {
      "image/png": "[encoded data removed]",
      "text/plain": [
       "<Figure size 432x288 with 1 Axes>"
      ]
     },
     "metadata": {
      "needs_background": "light"
     },
     "output_type": "display_data"
    },
    {
     "name": "stdout",
     "output_type": "stream",
     "text": [
      "Vrednosti ocen  [-2 -1  0  1  2]\n",
      "Stevilo zbranih vnosov  [ 34  13  26 123 307]\n"
     ]
    },
    {
     "data": {
      "image/png": "[encoded data removed]",
      "text/plain": [
       "<Figure size 432x288 with 1 Axes>"
      ]
     },
     "metadata": {
      "needs_background": "light"
     },
     "output_type": "display_data"
    }
   ],
   "source": [
    "izrisi_ocene(df, 'p_score') # preference score\n",
    "izrisi_ocene(df, 'i_score') # informativness score\n",
    "izrisi_ocene(df, 'r_score') # readability score"
   ]
  },
  {
   "cell_type": "markdown",
   "metadata": {},
   "source": [
    "## Porazdelitev podatkov glede na fizično aktivnost\n",
    "\n",
    "Tako kot pri deskriptivni analizi vseh zbranih podatkov se izkaže, da je največ podatkov, ko so bili uporabniki pri miru in manj, ko so hodili ali pa se vozili. Porazdelitev bomo upoštevali pri aktivnem učenju."
   ]
  },
  {
   "cell_type": "code",
   "execution_count": 126,
   "metadata": {},
   "outputs": [
    {
     "data": {
      "image/png": "[encoded data removed]",
      "text/plain": [
       "<Figure size 432x288 with 1 Axes>"
      ]
     },
     "metadata": {},
     "output_type": "display_data"
    },
    {
     "name": "stdout",
     "output_type": "stream",
     "text": [
      "[368, 92, 43]\n"
     ]
    },
    {
     "data": {
      "image/png": "[encoded data removed]",
      "text/plain": [
       "<Figure size 432x288 with 1 Axes>"
      ]
     },
     "metadata": {
      "needs_background": "light"
     },
     "output_type": "display_data"
    }
   ],
   "source": [
    "def draw_pie(labels, sizes):\n",
    "    plt.pie(sizes, labels=labels,\n",
    "            autopct='%1.1f%%', shadow=True, startangle=140)\n",
    "    plt.axis('equal')\n",
    "    plt.show()\n",
    "    \n",
    "def izrisi_aktivnosti(vals):\n",
    "    print(vals)\n",
    "    labels = ('STILL', 'ON_FOOT','IN_VEHICLE')\n",
    "    y_pos = np.arange(len(labels))\n",
    "    plt.bar(y_pos, vals, align='center')\n",
    "    plt.xticks(y_pos, labels)\n",
    "    plt.ylabel('Stevilo vnosov')\n",
    "    plt.title('Stevilo zbranih vnosov glede na fizicno aktivnost uporabnika')\n",
    "    plt.show()\n",
    "    \n",
    "c0 = len(df.loc[(df['user activity_STILL']) == 1])\n",
    "c1 = len(df.loc[(df['user activity_ON_FOOT']) == 1])\n",
    "c2 = len(df.loc[(df['user activity_IN_VEHICLE']) == 1])\n",
    "\n",
    "draw_pie(['STILL', 'ON_FOOT','IN_VEHICLE'], [c0, c1, c2])\n",
    "izrisi_aktivnosti([c0,c1,c2])"
   ]
  },
  {
   "cell_type": "markdown",
   "metadata": {},
   "source": [
    "## Izgradnja modelov\n",
    "\n",
    "V nadaljevanju bomo gradili posamezne modele na podatkih, ki vsebujejo `xLargeCards` ali pa `largeCards` poglede in vsebujejo slike. Podatkov je manj in posledično so tudi novo zgrajeni modeli slabši od tistih, ki smo jih gradili v začetku. Prav tako pa je težje napovedati boljši izhod, če izbiramo med najbolšimi prikazi novic. Kot smo predhodno omenili bomo gradili personalizirane modele s pomočjo aktivnega učenja. Izbrali bomo torej model z najboljšimi metrikami in ga poskusili še izboljšati."
   ]
  },
  {
   "cell_type": "code",
   "execution_count": 127,
   "metadata": {},
   "outputs": [],
   "source": [
    "featureNames = ['user activity_STILL', 'user activity_IN_VEHICLE', 'user activity_ON_FOOT',\n",
    "                'theme_light-theme', 'theme_dark-theme',\n",
    "                'layout_largeCards', 'layout_xLargeCards',\n",
    "                'env brightness',\n",
    "                'font size_large-font', 'font size_small-font']\n",
    "x = df[featureNames]\n",
    "y = df['output']\n",
    "X_train, X_test, y_train, y_test = train_test_split(x, y, test_size=0.2, random_state=421)"
   ]
  },
  {
   "cell_type": "code",
   "execution_count": 128,
   "metadata": {},
   "outputs": [],
   "source": [
    "def analyseDummyClassifier(x, y, X_train, X_test, y_train, y_test):\n",
    "    dummy_clf = DummyClassifier(strategy=\"most_frequent\")\n",
    "    dummy_clf.fit(X_train, y_train)\n",
    "    scores = cross_val_score(dummy_clf, x, y, cv=10)\n",
    "    print(\"Dummy cross_val_score = \", scores.mean())\n",
    "    y_pred = dummy_clf.predict(X_test)\n",
    "    tn, fp, fn, tp =  confusion_matrix(y_test, y_pred).ravel()\n",
    "    acc = (tp + tn) / (tn + fp + fn + tp)\n",
    "    print(\"Dummy accuracy = \",acc)"
   ]
  },
  {
   "cell_type": "markdown",
   "metadata": {},
   "source": [
    "Na podlagi spodnjega klica metode lahko opazimo, da ima večinski klasifikator srednjo vrednost natančnosti po kfold preverjanju 52% in da je natančnost modela 54% potem ko podatke razdelimo na 80% učnih in 20% testnih. Dobljene rezultate lahko uporabimo kot osnovo za primerjavo modelov v nadaljevanju. "
   ]
  },
  {
   "cell_type": "code",
   "execution_count": 129,
   "metadata": {},
   "outputs": [
    {
     "name": "stdout",
     "output_type": "stream",
     "text": [
      "Dummy cross_val_score =  0.5248235294117647\n",
      "Dummy accuracy =  0.5445544554455446\n"
     ]
    }
   ],
   "source": [
    "analyseDummyClassifier(x, y, X_train, X_test, y_train, y_test)"
   ]
  },
  {
   "cell_type": "code",
   "execution_count": 130,
   "metadata": {},
   "outputs": [],
   "source": [
    "def analyseModel(clf, x, y, X_train, X_test, y_train, y_test):\n",
    "    \n",
    "    y_pred = clf.predict(X_test)\n",
    "    y_pred_proba = clf.predict_proba(X_test)\n",
    "    \n",
    "    fpr, tpr, thr = roc_curve(y_test, y_pred_proba[:, 1])\n",
    "    auc = roc_auc_score(y_test, y_pred_proba[:, 1])\n",
    "    \n",
    "    f1 = f1_score(y_test, y_pred)\n",
    "    precision = precision_score(y_test, y_pred)\n",
    "    recall = recall_score(y_test, y_pred)\n",
    "    \n",
    "    acc = accuracy_score(y_test, y_pred)\n",
    "    crossValidationScores = cross_val_score(clf, x, y, cv=10)\n",
    "    tn, fp, fn, tp =  confusion_matrix(y_test, y_pred).ravel()\n",
    "                \n",
    "    print(\"Recall = \", recall)\n",
    "    print(\"Precision score = \", precision)\n",
    "    print(\"F1 = \",f1)\n",
    "    print(\"Accuracy = \", acc)\n",
    "    print(\"10FoldCrossVal score = \",crossValidationScores.mean())\n",
    "    print(\"AUC = \",auc)\n",
    "    print(\"=====================================\")\n",
    "    plt.plot(fpr, tpr, label=\"RandomForest\")\n",
    "    plt.legend(\"RandomForestClassifier\")\n",
    "    plt.plot([0, 1], [0, 1], color='navy', lw=2, linestyle='--')\n",
    "    plt.show()\n",
    "    "
   ]
  },
  {
   "cell_type": "markdown",
   "metadata": {},
   "source": [
    "## Analiza učinkovitosti random forest klasifikatorja"
   ]
  },
  {
   "cell_type": "code",
   "execution_count": 131,
   "metadata": {},
   "outputs": [
    {
     "name": "stdout",
     "output_type": "stream",
     "text": [
      "Recall =  0.717391304347826\n",
      "Precision score =  0.6226415094339622\n",
      "F1 =  0.6666666666666666\n",
      "Accuracy =  0.6732673267326733\n",
      "10FoldCrossVal score =  0.6046666666666667\n",
      "AUC =  0.7426877470355732\n",
      "=====================================\n"
     ]
    },
    {
     "data": {
      "image/png": "[encoded data removed]",
      "text/plain": [
       "<Figure size 432x288 with 1 Axes>"
      ]
     },
     "metadata": {
      "needs_background": "light"
     },
     "output_type": "display_data"
    }
   ],
   "source": [
    "clf = RandomForestClassifier(n_estimators=100, random_state=421)\n",
    "clf.fit(X_train, y_train)\n",
    "analyseModel(clf, x, y, X_train, X_test, y_train, y_test)"
   ]
  },
  {
   "cell_type": "markdown",
   "metadata": {},
   "source": [
    "## Analiza učinkovitosti Bayesovega klasifikatorja"
   ]
  },
  {
   "cell_type": "code",
   "execution_count": 132,
   "metadata": {},
   "outputs": [
    {
     "name": "stdout",
     "output_type": "stream",
     "text": [
      "Recall =  0.043478260869565216\n",
      "Precision score =  0.5\n",
      "F1 =  0.08\n",
      "Accuracy =  0.5445544554455446\n",
      "10FoldCrossVal score =  0.5647058823529412\n",
      "AUC =  0.6324110671936759\n",
      "=====================================\n"
     ]
    },
    {
     "data": {
      "image/png": "[encoded data removed]",
      "text/plain": [
       "<Figure size 432x288 with 1 Axes>"
      ]
     },
     "metadata": {
      "needs_background": "light"
     },
     "output_type": "display_data"
    }
   ],
   "source": [
    "gnb = GaussianNB()\n",
    "gnb = gnb.fit(X_train, y_train)\n",
    "analyseModel(gnb, x, y, X_train, X_test, y_train, y_test)"
   ]
  },
  {
   "cell_type": "markdown",
   "metadata": {},
   "source": [
    "## Analiza učinkovitosti AdaBoost klasifikatorja"
   ]
  },
  {
   "cell_type": "code",
   "execution_count": 133,
   "metadata": {},
   "outputs": [
    {
     "name": "stdout",
     "output_type": "stream",
     "text": [
      "Recall =  0.782608695652174\n",
      "Precision score =  0.6\n",
      "F1 =  0.6792452830188679\n",
      "Accuracy =  0.6633663366336634\n",
      "10FoldCrossVal score =  0.6125882352941177\n",
      "AUC =  0.6865612648221344\n",
      "=====================================\n"
     ]
    },
    {
     "data": {
      "image/png": "[encoded data removed]",
      "text/plain": [
       "<Figure size 432x288 with 1 Axes>"
      ]
     },
     "metadata": {
      "needs_background": "light"
     },
     "output_type": "display_data"
    }
   ],
   "source": [
    "clf = AdaBoostClassifier(n_estimators=100, learning_rate=1)\n",
    "clf.fit(X_train, y_train)\n",
    "analyseModel(clf, x, y, X_train, X_test, y_train, y_test)"
   ]
  },
  {
   "cell_type": "markdown",
   "metadata": {},
   "source": [
    "## Analiza učinkovitosti odločitvenega drevesa"
   ]
  },
  {
   "cell_type": "code",
   "execution_count": 134,
   "metadata": {},
   "outputs": [
    {
     "name": "stdout",
     "output_type": "stream",
     "text": [
      "Recall =  0.6956521739130435\n",
      "Precision score =  0.6037735849056604\n",
      "F1 =  0.6464646464646465\n",
      "Accuracy =  0.6534653465346535\n",
      "10FoldCrossVal score =  0.6027450980392157\n",
      "AUC =  0.6104743083003953\n",
      "=====================================\n"
     ]
    },
    {
     "data": {
      "image/png": "[encoded data removed]",
      "text/plain": [
       "<Figure size 432x288 with 1 Axes>"
      ]
     },
     "metadata": {
      "needs_background": "light"
     },
     "output_type": "display_data"
    }
   ],
   "source": [
    "clf = tree.DecisionTreeClassifier()\n",
    "clf.fit(X_train, y_train)\n",
    "analyseModel(clf, x, y, X_train, X_test, y_train, y_test)"
   ]
  },
  {
   "cell_type": "markdown",
   "metadata": {},
   "source": [
    "## Primerjava zgrajenih modelov"
   ]
  },
  {
   "cell_type": "markdown",
   "metadata": {},
   "source": [
    "|                          | Precision | Recall | F1-Score | Accuracy | AUC  | 10Fold cross validation mean accuracy |\n",
    "|--------------------------|-----------|--------|----------|----------|------|---------------------------------------|\n",
    "| Random forest classifier | 0.623     | 0.717  | 0.67     | 0.67     | 0.74 | 0.60                                  |\n",
    "| Bayes classifier         | 0.5       | 0.04   | 0.08     | 0.54     | 0.63 | 0.56                                  |\n",
    "| AdaBoost classifier      | 0.6       | 0.78   | 0.68     | 0.66     | 0.69 | 0.61                                  |\n",
    "| Tree classifier          | 0.60      | 0.70   | 0.64     | 0.65     | 0.61 | 0.60                                  |"
   ]
  },
  {
   "cell_type": "markdown",
   "metadata": {},
   "source": [
    "Na podlagi zgornjih rezultatov lahko opazimo, da najboljše rezultate daje t.i. `Random Forest classifier`, saj ima največje vrednosti metrik kot so `AUC, Precision, Accuracy` in približno enake vrednosti ostalih metrik. Metrika `Precision` ima v našem primeru največjo vlogo, saj si želimo, da večkrat model napove izhod DA in je dejansko DA kot, da bi model napovedal DA in bi bila dejanska vrednost NE. Model pa lahko izboljšamo na podlagi ROC krivulje, tako, da izberemo vrednost za threshold tisto, ki je na grafu najbližja točki (0,1). To lahko storimo s pomočjo klica spodnje funkcije. "
   ]
  },
  {
   "cell_type": "code",
   "execution_count": 135,
   "metadata": {},
   "outputs": [],
   "source": [
    "def findOptimalThreshold(fpr, tpr, thr):\n",
    "    minDistance = 100\n",
    "    optimum = {\"fpr\": 0, \"tpr\": 0, \"thr\":0}\n",
    "    \n",
    "    for fpr_v, tpr_v, thr_v in zip(fpr, tpr, thr):\n",
    "        distance = sqrt(fpr_v**2 + (1-tpr_v)**2)\n",
    "        if distance < minDistance:\n",
    "            minDistance = distance\n",
    "            optimum[\"fpr\"] = fpr_v\n",
    "            optimum[\"thr\"] = thr_v\n",
    "            optimum[\"tpr\"] = tpr_v\n",
    "            \n",
    "    print(\"Optimum \",optimum)\n",
    "    return optimum"
   ]
  },
  {
   "cell_type": "code",
   "execution_count": 136,
   "metadata": {},
   "outputs": [
    {
     "name": "stdout",
     "output_type": "stream",
     "text": [
      "Optimum  {'fpr': 0.23636363636363636, 'tpr': 0.6739130434782609, 'thr': 0.5920337252470018}\n"
     ]
    }
   ],
   "source": [
    "clf = RandomForestClassifier(n_estimators=100, random_state=421)\n",
    "clf.fit(X_train, y_train)\n",
    "\n",
    "y_pred = clf.predict(X_test)\n",
    "y_pred_proba = clf.predict_proba(X_test)\n",
    "fpr, tpr, thr = roc_curve(y_test, y_pred_proba[:, 1])\n",
    "optimum = findOptimalThreshold(fpr, tpr, thr)"
   ]
  },
  {
   "cell_type": "code",
   "execution_count": 137,
   "metadata": {},
   "outputs": [
    {
     "name": "stdout",
     "output_type": "stream",
     "text": [
      "New accuracy score =  0.7227722772277227\n",
      "New precision score =  0.7045454545454546\n",
      "New recall score =  0.7045454545454546\n",
      "New f1 score =  0.7045454545454546\n"
     ]
    }
   ],
   "source": [
    "optimalThr = optimum['thr']\n",
    "predicted_proba = clf.predict_proba(X_test)\n",
    "predicted = (predicted_proba [:,1] >= optimalThr).astype('int')\n",
    "accuracy = accuracy_score(y_test, predicted)\n",
    "print(\"New accuracy score = \",accuracy)\n",
    "tn, fp, fn, tp =  confusion_matrix(y_test, predicted).ravel()\n",
    "precision = tp / (tp + fp)\n",
    "recall = tp / (tp + fp)\n",
    "f1 = 2 * (precision*recall/(precision+recall))\n",
    "\n",
    "print(\"New precision score = \",precision)\n",
    "print(\"New recall score = \", recall)\n",
    "print(\"New f1 score = \",f1)"
   ]
  },
  {
   "cell_type": "code",
   "execution_count": 138,
   "metadata": {},
   "outputs": [],
   "source": [
    "def performKFoldValidation(clf, x,y):\n",
    "    a = []\n",
    "    for train_index, test_index in kf.split(x):\n",
    "        X_train = x.iloc[train_index,:]\n",
    "        y_train = y.iloc[train_index]\n",
    "    \n",
    "        clf.fit(X_train, y_train)\n",
    "    \n",
    "        y_test = y.iloc[test_index]\n",
    "        X_test = x.iloc[test_index,:]\n",
    "        predicted_proba = clf.predict_proba(X_test)\n",
    "        predicted = (predicted_proba[:,1] >= optimalThr).astype('int')\n",
    "\n",
    "        accuracy = accuracy_score(y_test, predicted)\n",
    "        a.append(accuracy)\n",
    "    \n",
    "    avgAcc = sum(a)/len(a)\n",
    "    print(\"New kfold score = \",avgAcc)"
   ]
  },
  {
   "cell_type": "code",
   "execution_count": 139,
   "metadata": {},
   "outputs": [
    {
     "name": "stdout",
     "output_type": "stream",
     "text": [
      "New kfold score =  0.6246274509803922\n"
     ]
    }
   ],
   "source": [
    "performKFoldValidation(clf, x, y)"
   ]
  },
  {
   "cell_type": "markdown",
   "metadata": {},
   "source": [
    "|                                      | Precision | Recall | F1-Score | Accuracy | 10Fold cross validation mean accuracy |\n",
    "|--------------------------------------|-----------|--------|----------|----------|---------------------------------------|\n",
    "| Random forest classifier             | 0.623     | 0.717  | 0.67     | 0.67     | 0.60                                  |\n",
    "| Random forest with optimal threshold | 0.705      | 0.705  | 0.705    | 0.72     | 0.62                                  |"
   ]
  },
  {
   "cell_type": "markdown",
   "metadata": {},
   "source": [
    "Na podlagi zgornje tabele vidimo, da smo uspeli izboljšati posamezne metrike modela ob upoštevanju optimalnega `thresholda` izračunanega na podlagi ROC krivulje. V nadaljevanju bomo torej uporabili model Random Forest model, saj se ta izkaže kot najboljši ob upoštevanju vrednosti za threshold, ki je enaka 0.59. \n",
    "\n",
    "Z mejo 0.59 si lahko pomagamo za definiranje vrednosti, kdaj model ni prepričan, kaj postaviti na izhod in zahtevamo vprašalnik. V primeru, da imajo vse možnosti prikaza novic verjetnost DA pod 0.59 pomeni, da so vse izbire slabe, vseeno pa nekaj moramo uporabniku prikazati na zaslon. V tem primeru gre za najbolj skrajen primer, ko model ni prepričan s katerim prikazom novic bi bil uporabnik zadovoljen, saj so vsi prikazi kategorizirani kot NE. \n",
    "\n",
    "Vendar moramo upoštevati, da je to zgolj le minimalna meja in jo bomo povečali na 0.7, kar pomeni, da bomo uporabniku postavili vprašalnik takrat, ko je največja verjetnost za DA izmed osmih različnih verjetnosti pod vrednostjo 0.7."
   ]
  },
  {
   "cell_type": "markdown",
   "metadata": {},
   "source": [
    "Končen način zbiranja podatkov in posodabljana modela je prikazan na spodnjem diagramu:\n",
    "\n",
    "![diagram](img/ActiveLearningDiagram.png)"
   ]
  }
 ],
 "metadata": {
  "kernelspec": {
   "display_name": "Python 3",
   "language": "python",
   "name": "python3"
  },
  "language_info": {
   "codemirror_mode": {
    "name": "ipython",
    "version": 3
   },
   "file_extension": ".py",
   "mimetype": "text/x-python",
   "name": "python",
   "nbconvert_exporter": "python",
   "pygments_lexer": "ipython3",
   "version": "3.7.3"
  }
 },
 "nbformat": 4,
 "nbformat_minor": 4
}
