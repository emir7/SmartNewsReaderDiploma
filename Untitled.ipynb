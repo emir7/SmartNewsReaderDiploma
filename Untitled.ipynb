{
 "cells": [
  {
   "cell_type": "code",
   "execution_count": 1206,
   "metadata": {},
   "outputs": [],
   "source": [
    "import math\n",
    "from sklearn.ensemble import RandomForestClassifier\n",
    "import pandas as pd\n",
    "from sklearn.model_selection import train_test_split\n",
    "pd.options.mode.chained_assignment = None  # default='warn'\n",
    "from sklearn.metrics import roc_curve\n",
    "from sklearn.metrics import roc_auc_score\n",
    "from sklearn.metrics import f1_score\n",
    "from sklearn.metrics import precision_score\n",
    "from sklearn.metrics import recall_score\n",
    "from sklearn.metrics import accuracy_score\n",
    "from sklearn.metrics import confusion_matrix\n",
    "import matplotlib.pyplot as plt\n",
    "import random\n",
    "\n",
    "random.seed(5)"
   ]
  },
  {
   "cell_type": "code",
   "execution_count": 1207,
   "metadata": {},
   "outputs": [],
   "source": [
    "def performOneHotEncoding(df, catNames):\n",
    "    for catName in catNames:\n",
    "        df = pd.concat([df, pd.get_dummies(df[catName], prefix=catName)], axis=1)\n",
    "        df.drop([catName], axis=1, inplace=True)\n",
    "    return df"
   ]
  },
  {
   "cell_type": "code",
   "execution_count": 1208,
   "metadata": {},
   "outputs": [],
   "source": [
    "df = pd.read_csv(\"Dataset/mlDataset.csv\")\n",
    "df = performOneHotEncoding(df, ['user activity', 'layout', 'theme', 'images', 'font size'])\n",
    "df.drop(['Unnamed: 0'], axis=1, inplace=True)"
   ]
  },
  {
   "cell_type": "code",
   "execution_count": 1209,
   "metadata": {},
   "outputs": [
    {
     "name": "stdout",
     "output_type": "stream",
     "text": [
      "Index(['user activity_STILL', 'user activity_IN_VEHICLE',\n",
      "       'user activity_ON_FOOT', 'theme_light-theme', 'theme_dark-theme',\n",
      "       'layout_largeCards', 'layout_xLargeCards', 'env brightness',\n",
      "       'font size_large-font', 'font size_small-font', 'output'],\n",
      "      dtype='object')\n",
      "Starting size (276, 11)  ucb size  (126, 11)\n",
      "80% podatkov velikost (402, 11)  20% podatkov size  (101,)\n"
     ]
    }
   ],
   "source": [
    "featureNames = ['user activity_STILL', 'user activity_IN_VEHICLE', 'user activity_ON_FOOT',\n",
    "                'theme_light-theme', 'theme_dark-theme',\n",
    "                'layout_largeCards', 'layout_xLargeCards',\n",
    "                'env brightness',\n",
    "                'font size_large-font', 'font size_small-font']\n",
    "x = df[featureNames]\n",
    "y = df['output']\n",
    "\n",
    "#razdeli na 80-20\n",
    "X_train1, X_test1, y_train1, y_test1 = train_test_split(x, y, test_size=0.2, random_state=421)\n",
    "X_train1['output'] = y_train1\n",
    "newDF = X_train1.copy() # dataframe velikosti 80%\n",
    "del X_train1['output']\n",
    "\n",
    "new_x = newDF[featureNames]\n",
    "new_y = newDF['output']\n",
    "# razdeli 80% velik dataset na 90 - 10\n",
    "p = 1 - (503*0.55 / 402)\n",
    "X_train2, X_test2, y_train2, y_test2 = train_test_split(new_x, new_y, test_size=p, random_state=421) \n",
    "#X_train2 = 70%, X_test2 -> 10% (ki bodo skriti z njimi delam ucb)\n",
    "\n",
    "X_test2['output'] = y_test2\n",
    "# dataset za algoritem ucb 10% podatkov\n",
    "ucb_dataset = X_test2.copy() \n",
    "X_train2['output'] = y_train2 \n",
    "# zacetni dataset 70% podatkov\n",
    "startingDataset = X_train2.copy()\n",
    "print(startingDataset.columns)\n",
    "print(\"Starting size\", startingDataset.shape, \" ucb size \", ucb_dataset.shape)\n",
    "print(\"80% podatkov velikost\", newDF.shape, \" 20% podatkov size \", y_test1.shape)"
   ]
  },
  {
   "cell_type": "code",
   "execution_count": 1210,
   "metadata": {},
   "outputs": [],
   "source": [
    "def analyseModel(clf, X_test, y_test):\n",
    "    \n",
    "    y_pred = clf.predict(X_test)\n",
    "    y_pred_proba = clf.predict_proba(X_test)\n",
    "    \n",
    "    fpr, tpr, thr = roc_curve(y_test, y_pred_proba[:, 1])\n",
    "    auc = roc_auc_score(y_test, y_pred_proba[:, 1])\n",
    "    \n",
    "    f1 = f1_score(y_test, y_pred)\n",
    "    precision = precision_score(y_test, y_pred)\n",
    "    recall = recall_score(y_test, y_pred)\n",
    "    \n",
    "    acc = accuracy_score(y_test, y_pred)\n",
    "    tn, fp, fn, tp =  confusion_matrix(y_test, y_pred).ravel()\n",
    "                \n",
    "    print(\"Recall = \", recall)\n",
    "    print(\"Precision score = \", precision)\n",
    "    print(\"F1 = \",f1)\n",
    "    print(\"Accuracy = \", acc)\n",
    "    print(\"AUC = \",auc)\n",
    "    print(\"=====================================\")\n",
    "    plt.plot(fpr, tpr, label=\"RandomForest\")\n",
    "    plt.legend(\"RandomForestClassifier\")\n",
    "    plt.plot([0, 1], [0, 1], color='navy', lw=2, linestyle='--')\n",
    "    plt.show()"
   ]
  },
  {
   "cell_type": "code",
   "execution_count": 1211,
   "metadata": {},
   "outputs": [
    {
     "name": "stdout",
     "output_type": "stream",
     "text": [
      "Recall =  0.5652173913043478\n",
      "Precision score =  0.6341463414634146\n",
      "F1 =  0.5977011494252873\n",
      "Accuracy =  0.6534653465346535\n",
      "AUC =  0.6847826086956522\n",
      "=====================================\n"
     ]
    },
    {
     "data": {
      "image/png": "[encoded data removed]",
      "text/plain": [
       "<Figure size 432x288 with 1 Axes>"
      ]
     },
     "metadata": {
      "needs_background": "light"
     },
     "output_type": "display_data"
    }
   ],
   "source": [
    "# Zacetni model\n",
    "x_zacetni = startingDataset[featureNames] # 70% podatkov\n",
    "y_zacetni = startingDataset['output'] # 70% podatkov\n",
    "clf = RandomForestClassifier(n_estimators=100, random_state=421)\n",
    "clf.fit(x_zacetni, y_zacetni)\n",
    "analyseModel(clf, X_test1, y_test1)"
   ]
  },
  {
   "cell_type": "code",
   "execution_count": 1212,
   "metadata": {},
   "outputs": [],
   "source": [
    "bandit_data = {\n",
    "    \"regret\": 0,\n",
    "    \"total_reward\": 0,\n",
    "    \"all_time_pulls\": 0,\n",
    "    \"number_of_selections\": [0,0,0,0],\n",
    "    \"sum_of_rewards\": [0,0,0,0],\n",
    "    \"selected_techniques\": []\n",
    "}"
   ]
  },
  {
   "cell_type": "code",
   "execution_count": 1213,
   "metadata": {},
   "outputs": [],
   "source": [
    "bandit_data_rand = {\n",
    "    \"regret\": 0,\n",
    "    \"total_reward\": 0,\n",
    "    \"all_time_pulls\": 0,\n",
    "    \"number_of_selections\": [0,0,0,0],\n",
    "    \"sum_of_rewards\": [0,0,0,0],\n",
    "    \"selected_techniques\": []\n",
    "}"
   ]
  },
  {
   "cell_type": "code",
   "execution_count": 1214,
   "metadata": {},
   "outputs": [],
   "source": [
    "def random_pull():\n",
    "    selected_pull = random.randrange(4)\n",
    "    bandit_data_rand[\"number_of_selections\"][selected_pull] += 1\n",
    "    bandit_data_rand[\"selected_techniques\"].append(selected_pull)\n",
    "    bandit_data_rand[\"all_time_pulls\"] += 1 \n",
    "    return selected_pull"
   ]
  },
  {
   "cell_type": "code",
   "execution_count": 1215,
   "metadata": {},
   "outputs": [],
   "source": [
    "def bandit_pull():\n",
    "    \n",
    "    selected_pull = 0\n",
    "    max_upper_bound = 0\n",
    "    \n",
    "    for i in range(0,4):\n",
    "        upper_bound = 0\n",
    "        \n",
    "        if(bandit_data[\"number_of_selections\"][i] > 0):\n",
    "            avg_reward = bandit_data[\"sum_of_rewards\"][i] / bandit_data[\"number_of_selections\"][i]\n",
    "            delta = math.sqrt(2 * math.log(bandit_data[\"all_time_pulls\"] + 1) / bandit_data[\"number_of_selections\"][i])\n",
    "            upper_bound = avg_reward + delta\n",
    "        else: \n",
    "            upper_bound = math.inf\n",
    "        \n",
    "        if upper_bound > max_upper_bound:\n",
    "            max_upper_bound = upper_bound\n",
    "            selected_pull = i\n",
    "            \n",
    "            \n",
    "    bandit_data[\"number_of_selections\"][selected_pull] += 1\n",
    "    bandit_data[\"selected_techniques\"].append(selected_pull)\n",
    "    bandit_data[\"all_time_pulls\"] += 1 \n",
    "    return selected_pull\n",
    "    "
   ]
  },
  {
   "cell_type": "code",
   "execution_count": 1216,
   "metadata": {},
   "outputs": [
    {
     "data": {
      "text/html": [
       "<div>\n",
       "<style scoped>\n",
       "    .dataframe tbody tr th:only-of-type {\n",
       "        vertical-align: middle;\n",
       "    }\n",
       "\n",
       "    .dataframe tbody tr th {\n",
       "        vertical-align: top;\n",
       "    }\n",
       "\n",
       "    .dataframe thead th {\n",
       "        text-align: right;\n",
       "    }\n",
       "</style>\n",
       "<table border=\"1\" class=\"dataframe\">\n",
       "  <thead>\n",
       "    <tr style=\"text-align: right;\">\n",
       "      <th></th>\n",
       "      <th>user activity_STILL</th>\n",
       "      <th>user activity_IN_VEHICLE</th>\n",
       "      <th>user activity_ON_FOOT</th>\n",
       "      <th>theme_light-theme</th>\n",
       "      <th>theme_dark-theme</th>\n",
       "      <th>layout_largeCards</th>\n",
       "      <th>layout_xLargeCards</th>\n",
       "      <th>env brightness</th>\n",
       "      <th>font size_large-font</th>\n",
       "      <th>font size_small-font</th>\n",
       "      <th>output</th>\n",
       "    </tr>\n",
       "  </thead>\n",
       "  <tbody>\n",
       "    <tr>\n",
       "      <th>383</th>\n",
       "      <td>1</td>\n",
       "      <td>0</td>\n",
       "      <td>0</td>\n",
       "      <td>1</td>\n",
       "      <td>0</td>\n",
       "      <td>1</td>\n",
       "      <td>0</td>\n",
       "      <td>85.0</td>\n",
       "      <td>0</td>\n",
       "      <td>1</td>\n",
       "      <td>0</td>\n",
       "    </tr>\n",
       "    <tr>\n",
       "      <th>302</th>\n",
       "      <td>1</td>\n",
       "      <td>0</td>\n",
       "      <td>0</td>\n",
       "      <td>0</td>\n",
       "      <td>1</td>\n",
       "      <td>1</td>\n",
       "      <td>0</td>\n",
       "      <td>0.0</td>\n",
       "      <td>1</td>\n",
       "      <td>0</td>\n",
       "      <td>1</td>\n",
       "    </tr>\n",
       "    <tr>\n",
       "      <th>454</th>\n",
       "      <td>0</td>\n",
       "      <td>0</td>\n",
       "      <td>1</td>\n",
       "      <td>1</td>\n",
       "      <td>0</td>\n",
       "      <td>0</td>\n",
       "      <td>1</td>\n",
       "      <td>5849.0</td>\n",
       "      <td>1</td>\n",
       "      <td>0</td>\n",
       "      <td>1</td>\n",
       "    </tr>\n",
       "    <tr>\n",
       "      <th>308</th>\n",
       "      <td>1</td>\n",
       "      <td>0</td>\n",
       "      <td>0</td>\n",
       "      <td>0</td>\n",
       "      <td>1</td>\n",
       "      <td>1</td>\n",
       "      <td>0</td>\n",
       "      <td>0.0</td>\n",
       "      <td>0</td>\n",
       "      <td>1</td>\n",
       "      <td>1</td>\n",
       "    </tr>\n",
       "    <tr>\n",
       "      <th>71</th>\n",
       "      <td>1</td>\n",
       "      <td>0</td>\n",
       "      <td>0</td>\n",
       "      <td>1</td>\n",
       "      <td>0</td>\n",
       "      <td>1</td>\n",
       "      <td>0</td>\n",
       "      <td>30.0</td>\n",
       "      <td>1</td>\n",
       "      <td>0</td>\n",
       "      <td>1</td>\n",
       "    </tr>\n",
       "  </tbody>\n",
       "</table>\n",
       "</div>"
      ],
      "text/plain": [
       "     user activity_STILL  user activity_IN_VEHICLE  user activity_ON_FOOT  \\\n",
       "383                    1                         0                      0   \n",
       "302                    1                         0                      0   \n",
       "454                    0                         0                      1   \n",
       "308                    1                         0                      0   \n",
       "71                     1                         0                      0   \n",
       "\n",
       "     theme_light-theme  theme_dark-theme  layout_largeCards  \\\n",
       "383                  1                 0                  1   \n",
       "302                  0                 1                  1   \n",
       "454                  1                 0                  0   \n",
       "308                  0                 1                  1   \n",
       "71                   1                 0                  1   \n",
       "\n",
       "     layout_xLargeCards  env brightness  font size_large-font  \\\n",
       "383                   0            85.0                     0   \n",
       "302                   0             0.0                     1   \n",
       "454                   1          5849.0                     1   \n",
       "308                   0             0.0                     0   \n",
       "71                    0            30.0                     1   \n",
       "\n",
       "     font size_small-font  output  \n",
       "383                     1       0  \n",
       "302                     0       1  \n",
       "454                     0       1  \n",
       "308                     1       1  \n",
       "71                      0       1  "
      ]
     },
     "execution_count": 1216,
     "metadata": {},
     "output_type": "execute_result"
    }
   ],
   "source": [
    "ucb_dataset.head()"
   ]
  },
  {
   "cell_type": "code",
   "execution_count": 1217,
   "metadata": {},
   "outputs": [
    {
     "name": "stdout",
     "output_type": "stream",
     "text": [
      "(126, 11)\n"
     ]
    }
   ],
   "source": [
    "print(ucb_dataset.shape)"
   ]
  },
  {
   "cell_type": "code",
   "execution_count": 1218,
   "metadata": {},
   "outputs": [],
   "source": [
    "def trainRF(dataset):\n",
    "    x = dataset[featureNames] \n",
    "    y = dataset['output'] \n",
    "    clf = RandomForestClassifier(n_estimators=100, random_state=421)\n",
    "    clf.fit(x, y)\n",
    "    return clf"
   ]
  },
  {
   "cell_type": "code",
   "execution_count": 1219,
   "metadata": {},
   "outputs": [],
   "source": [
    "def marginalSoftmax(p1, p2):\n",
    "    if p1 > p2:\n",
    "        marginalDiff = 1 - (p1 - p2)\n",
    "    else:\n",
    "        marginalDiff = 1 - (p2 - p1)\n",
    "    \n",
    "    if marginalDiff >= 0.8:\n",
    "        return True\n",
    "    else:\n",
    "        return False\n",
    "\n",
    "def randomSelection():\n",
    "    return random.random() < 0.5\n",
    "\n",
    "def randomByUserActivity(dataset, ua):\n",
    "    c0 = sum(dataset[\"user activity_STILL\"])\n",
    "    c1 = sum(dataset[\"user activity_ON_FOOT\"])\n",
    "    c2 = sum(dataset[\"user activity_IN_VEHICLE\"])\n",
    "    \n",
    "    on_foot_coef = round(c0 / c1)\n",
    "    still_coef = 1\n",
    "    vehicle_coef = round(c0 / c2)\n",
    "    \n",
    "    still_p = 1 / (on_foot_coef + still_coef + vehicle_coef)\n",
    "    vehicle_p = still_p * vehicle_coef\n",
    "    foot_p = still_p * on_foot_coef\n",
    "    \n",
    "    if ua == \"STILL\":\n",
    "        return random.random() < still_p\n",
    "    elif ua == \"IN_VEHICLE\":\n",
    "        return random.random() < vehicle_p\n",
    "    else:\n",
    "        return random.random() < foot_p\n",
    "    \n",
    "    \n",
    "def leastConfidence(p, decision_boundary):\n",
    "    if decision_boundary > 0.7:\n",
    "        return p < decision_boundary\n",
    "    \n",
    "    return p < decision_boundary + 0.2"
   ]
  },
  {
   "cell_type": "code",
   "execution_count": 1220,
   "metadata": {
    "scrolled": true
   },
   "outputs": [
    {
     "name": "stdout",
     "output_type": "stream",
     "text": [
      "i =  0 reward =  -2\n",
      "i =  1 reward =  -2\n",
      "i =  2 reward =  -2\n",
      "i =  3 reward =  -2\n",
      "i =  4 reward =  3\n",
      "i =  5 reward =  -2\n",
      "i =  6 reward =  -2\n",
      "i =  7 reward =  -2\n",
      "i =  8 reward =  -2\n",
      "i =  9 reward =  -2\n",
      "i =  10 reward =  3\n",
      "i =  11 reward =  -2\n",
      "i =  12 reward =  3\n",
      "i =  13 reward =  3\n",
      "i =  14 reward =  3\n",
      "i =  15 reward =  -2\n",
      "i =  16 reward =  -2\n",
      "i =  17 reward =  -2\n",
      "i =  18 reward =  3\n",
      "i =  19 reward =  -2\n",
      "i =  20 reward =  3\n"
     ]
    }
   ],
   "source": [
    "i = 0\n",
    "c = 0\n",
    "all_data = []\n",
    "\n",
    "trial = []\n",
    "regret_vals = []\n",
    "reward_vals = []\n",
    "\n",
    "copy_for_all = startingDataset.copy()\n",
    "\n",
    "for index, row in ucb_dataset.iterrows():\n",
    "    # predictamo output\n",
    "    prediction_proba = clf.predict_proba([row.values[:-1]])\n",
    "    prediction_index = clf.predict([row.values[:-1]])[0] # dejanska napoved modela\n",
    "    all_data.append(row.values)\n",
    "    \n",
    "    copy_for_all = copy_for_all.append(pd.DataFrame([row.values], columns=copy_for_all.columns))\n",
    "    \n",
    "    bandit_index = bandit_pull()\n",
    "    \n",
    "    ask_q = False\n",
    "    \n",
    "    if bandit_index == 0:\n",
    "        ask_q = marginalSoftmax(prediction_proba[0][0], prediction_proba[0][1])\n",
    "    elif bandit_index == 1:\n",
    "        ask_q = randomSelection()\n",
    "    elif bandit_index == 2:\n",
    "        ua = \"STILL\"\n",
    "        if row[\"user activity_IN_VEHICLE\"] == 1:\n",
    "            ua = \"IN_VEHICLE\"\n",
    "        if row[\"user activity_ON_FOOT\"] == 2:\n",
    "            ua = \"ON_FOOT\"\n",
    "        ask_q = randomByUserActivity(startingDataset, ua)\n",
    "    else:\n",
    "        ask_q = leastConfidence(prediction_proba[0][int(prediction_index)],0.5)\n",
    "    \n",
    "    \n",
    "    trial.append(bandit_data[\"all_time_pulls\"])\n",
    "\n",
    "    \n",
    "    if ask_q == False:\n",
    "        regret_vals.append(bandit_data[\"regret\"])\n",
    "        reward_vals.append(bandit_data[\"total_reward\"])\n",
    "        continue\n",
    "        \n",
    "    startingDataset = startingDataset.append(pd.DataFrame([row.values], columns=startingDataset.columns)) \n",
    "    clf_new = trainRF(startingDataset)\n",
    "    \n",
    "    prediction_proba_new = clf_new.predict_proba([row.values[:-1]])\n",
    "    prediction_index_new = clf_new.predict([row.values[:-1]])[0]\n",
    "    \n",
    "    \n",
    "    ground_truth = int(row.values[-1]) \n",
    "    \n",
    "    reward = (prediction_proba[0][ground_truth] - prediction_proba_new[0][ground_truth])\n",
    "    \n",
    "    if reward < 0:\n",
    "        reward = -2\n",
    "    else:\n",
    "        reward = 2\n",
    "        \n",
    "        \n",
    "    \n",
    "    # ce se predikcija razlikuje prej in zdej, moramo dt dodatno nagrado/kazen    \n",
    "    if prediction_index != prediction_index_new: \n",
    "        # dodatna nagrada, ce se je stvar spremenila na dobro (+100)\n",
    "        \n",
    "        # prej nismo meli prou in zdej mamo\n",
    "        if prediction_index != ground_truth and prediction_index_new == ground_truth:\n",
    "            reward += 5\n",
    "        \n",
    "        # kazn, ker prej smo mel prou zdej pa nimamo \n",
    "        if prediction_index == ground_truth and prediction_index_new != ground_truth:\n",
    "            reward -= 5\n",
    "            \n",
    "        \n",
    "    if reward < 0:\n",
    "        bandit_data[\"regret\"]-=reward\n",
    "        \n",
    "    bandit_data[\"total_reward\"] += reward\n",
    "    bandit_data[\"sum_of_rewards\"][bandit_index] += reward\n",
    "    \n",
    "    regret_vals.append(bandit_data[\"regret\"])\n",
    "    reward_vals.append(bandit_data[\"total_reward\"])\n",
    "    \n",
    "    clf = clf_new\n",
    "    print(\"i = \",i, \"reward = \", reward)\n",
    "    i+=1\n",
    "\n",
    "    \n"
   ]
  },
  {
   "cell_type": "code",
   "execution_count": 1221,
   "metadata": {},
   "outputs": [
    {
     "data": {
      "text/plain": [
       "{'regret': 28,\n",
       " 'total_reward': -7,\n",
       " 'all_time_pulls': 126,\n",
       " 'number_of_selections': [40, 8, 24, 54],\n",
       " 'sum_of_rewards': [-1, -6, -4, 4],\n",
       " 'selected_techniques': [0,\n",
       "  1,\n",
       "  2,\n",
       "  3,\n",
       "  0,\n",
       "  1,\n",
       "  2,\n",
       "  3,\n",
       "  0,\n",
       "  1,\n",
       "  2,\n",
       "  3,\n",
       "  0,\n",
       "  1,\n",
       "  2,\n",
       "  3,\n",
       "  0,\n",
       "  2,\n",
       "  3,\n",
       "  0,\n",
       "  2,\n",
       "  3,\n",
       "  0,\n",
       "  2,\n",
       "  3,\n",
       "  0,\n",
       "  2,\n",
       "  3,\n",
       "  0,\n",
       "  2,\n",
       "  3,\n",
       "  2,\n",
       "  3,\n",
       "  2,\n",
       "  3,\n",
       "  1,\n",
       "  2,\n",
       "  3,\n",
       "  1,\n",
       "  3,\n",
       "  3,\n",
       "  3,\n",
       "  3,\n",
       "  3,\n",
       "  3,\n",
       "  3,\n",
       "  0,\n",
       "  3,\n",
       "  0,\n",
       "  3,\n",
       "  0,\n",
       "  3,\n",
       "  0,\n",
       "  2,\n",
       "  0,\n",
       "  2,\n",
       "  0,\n",
       "  2,\n",
       "  0,\n",
       "  2,\n",
       "  0,\n",
       "  2,\n",
       "  0,\n",
       "  2,\n",
       "  3,\n",
       "  2,\n",
       "  3,\n",
       "  2,\n",
       "  3,\n",
       "  2,\n",
       "  3,\n",
       "  3,\n",
       "  1,\n",
       "  1,\n",
       "  3,\n",
       "  3,\n",
       "  3,\n",
       "  3,\n",
       "  3,\n",
       "  3,\n",
       "  3,\n",
       "  3,\n",
       "  3,\n",
       "  3,\n",
       "  3,\n",
       "  3,\n",
       "  0,\n",
       "  3,\n",
       "  0,\n",
       "  3,\n",
       "  0,\n",
       "  3,\n",
       "  0,\n",
       "  0,\n",
       "  0,\n",
       "  0,\n",
       "  0,\n",
       "  0,\n",
       "  0,\n",
       "  0,\n",
       "  0,\n",
       "  0,\n",
       "  0,\n",
       "  0,\n",
       "  0,\n",
       "  0,\n",
       "  0,\n",
       "  0,\n",
       "  0,\n",
       "  0,\n",
       "  2,\n",
       "  3,\n",
       "  2,\n",
       "  3,\n",
       "  3,\n",
       "  3,\n",
       "  3,\n",
       "  3,\n",
       "  2,\n",
       "  0,\n",
       "  3,\n",
       "  3,\n",
       "  3,\n",
       "  3,\n",
       "  3,\n",
       "  3]}"
      ]
     },
     "execution_count": 1221,
     "metadata": {},
     "output_type": "execute_result"
    }
   ],
   "source": [
    "bandit_data"
   ]
  },
  {
   "cell_type": "code",
   "execution_count": 1222,
   "metadata": {},
   "outputs": [
    {
     "name": "stdout",
     "output_type": "stream",
     "text": [
      "Recall =  0.6086956521739131\n",
      "Precision score =  0.6666666666666666\n",
      "F1 =  0.6363636363636365\n",
      "Accuracy =  0.6831683168316832\n",
      "AUC =  0.7098814229249012\n",
      "=====================================\n"
     ]
    },
    {
     "data": {
      "image/png": "[encoded data removed]",
      "text/plain": [
       "<Figure size 432x288 with 1 Axes>"
      ]
     },
     "metadata": {
      "needs_background": "light"
     },
     "output_type": "display_data"
    }
   ],
   "source": [
    "analyseModel(clf, X_test1, y_test1)"
   ]
  },
  {
   "cell_type": "code",
   "execution_count": 1223,
   "metadata": {},
   "outputs": [
    {
     "data": {
      "image/png": "[encoded data removed]",
      "text/plain": [
       "<Figure size 432x288 with 1 Axes>"
      ]
     },
     "metadata": {
      "needs_background": "light"
     },
     "output_type": "display_data"
    }
   ],
   "source": [
    "plt.plot(trial, reward_vals)\n",
    "plt.show()"
   ]
  },
  {
   "cell_type": "code",
   "execution_count": 1224,
   "metadata": {
    "scrolled": true
   },
   "outputs": [
    {
     "data": {
      "image/png": "[encoded data removed]",
      "text/plain": [
       "<Figure size 432x288 with 1 Axes>"
      ]
     },
     "metadata": {
      "needs_background": "light"
     },
     "output_type": "display_data"
    }
   ],
   "source": [
    "plt.plot(trial, regret_vals)\n",
    "plt.show()"
   ]
  },
  {
   "cell_type": "code",
   "execution_count": null,
   "metadata": {},
   "outputs": [],
   "source": []
  }
 ],
 "metadata": {
  "kernelspec": {
   "display_name": "Python 3",
   "language": "python",
   "name": "python3"
  },
  "language_info": {
   "codemirror_mode": {
    "name": "ipython",
    "version": 3
   },
   "file_extension": ".py",
   "mimetype": "text/x-python",
   "name": "python",
   "nbconvert_exporter": "python",
   "pygments_lexer": "ipython3",
   "version": "3.7.3"
  }
 },
 "nbformat": 4,
 "nbformat_minor": 4
}
